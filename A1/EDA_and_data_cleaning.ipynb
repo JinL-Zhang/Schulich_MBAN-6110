{
 "cells": [
  {
   "attachments": {},
   "cell_type": "markdown",
   "metadata": {},
   "source": [
    "## Jinlun Zhang\n",
    "## Student #: 220668810\n",
    "### Purpose of the notebook: Given a dirty csv data file, clean the data and conduct exploratory analysis which will help the company build a sales strategy for the following year.\n",
    "#### The company also wants to better understand how various products perform across regions, in order to devise its sales strategy for next year.\n"
   ]
  },
  {
   "cell_type": "code",
   "execution_count": null,
   "metadata": {},
   "outputs": [],
   "source": [
    "import pandas as pd\n",
    "#df2 = pd.read_csv(\"https://raw.githubusercontent.com/JinL-Zhang/Schulich_MBAN-6110/main/customers.csv\")\n"
   ]
  }
 ],
 "metadata": {
  "language_info": {
   "name": "python"
  },
  "orig_nbformat": 4
 },
 "nbformat": 4,
 "nbformat_minor": 2
}
