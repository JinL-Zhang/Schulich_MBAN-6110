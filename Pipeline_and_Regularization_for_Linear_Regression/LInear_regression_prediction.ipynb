{
 "cells": [
  {
   "attachments": {},
   "cell_type": "markdown",
   "metadata": {},
   "source": [
    "# Jinlun Zhang\n",
    "## Student #: 220668810\n",
    "### Purpose: Build a regression model which can predict the price of a house, based on the features available.\n",
    "#### Questions / Tasks:\n",
    "\n",
    "1. Build a regression model to predict the price of a house. You may choose between Ordinary Least Squares Regression, LASSO, Ridge or Elastic Net.\n",
    "\n",
    "    You may need to clean and transform the data, including feature engineering, creating dummy variables, or using dimensionality reduction.\n",
    "\n",
    "    Be sure to explain why you chose the approach you did, and why it's the best approach for the data provided.\n",
    "\n",
    "2. Evaluate the model using techniques covered in class and explain the results. How do you know this is the best model you can build, given the tools you have?\n",
    "\n",
    "3. Explain the results to a business executive. What are the main drivers of house prices in King City? And how much do these drivers impact the price?\n"
   ]
  },
  {
   "cell_type": "code",
   "execution_count": 1,
   "metadata": {},
   "outputs": [],
   "source": [
    "import pandas as pd\n",
    "import numpy as np\n",
    "import matplotlib.pyplot as plt\n",
    "%matplotlib inline  \n",
    "from statsmodels.formula.api import ols\n",
    "import statsmodels.api as sm\n",
    "from sklearn.linear_model import LinearRegression, Lasso, Ridge,ElasticNet"
   ]
  },
  {
   "cell_type": "code",
   "execution_count": null,
   "metadata": {},
   "outputs": [],
   "source": [
    "df = pd.read_csv('https://raw.githubusercontent.com/delinai/schulich_ds1/main/Datasets/bikes_sharing.csv')\n",
    "df.head()"
   ]
  }
 ],
 "metadata": {
  "kernelspec": {
   "display_name": "base",
   "language": "python",
   "name": "python3"
  },
  "language_info": {
   "codemirror_mode": {
    "name": "ipython",
    "version": 3
   },
   "file_extension": ".py",
   "mimetype": "text/x-python",
   "name": "python",
   "nbconvert_exporter": "python",
   "pygments_lexer": "ipython3",
   "version": "3.10.12"
  },
  "orig_nbformat": 4
 },
 "nbformat": 4,
 "nbformat_minor": 2
}
