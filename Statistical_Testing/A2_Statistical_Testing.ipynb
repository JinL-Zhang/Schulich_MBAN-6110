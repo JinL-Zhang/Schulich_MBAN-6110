{
 "cells": [
  {
   "attachments": {},
   "cell_type": "markdown",
   "metadata": {},
   "source": [
    "# Jinlun Zhang\n",
    "## Student #: 220668810\n",
    "### Purpose: Testing changes to an existing feature. \n",
    "#### You would like to release changes to a key feature and have prepared 2 possible variants.  You've been running an experiment for 2 weeks, and now have some data with the experiment results. Specifically, you have the Click-Through-Rate (CTR) and Average Time Spent, in minutes, for each feature. A CTR of 1 would indicate the user has fully clicked on everything in a feature, while a CTR of 0 means they have not clicked anything. Task is as follows:\n",
    "\n",
    "1. Analyze the results to determine which feature (if any) results in CTR or Time Spent lift.\n",
    "\n",
    "2. Conduct statistical testing to determine if there is a statistically significant difference between the features and the control group.\n",
    "\n",
    "3. Summarize your results. Make a recommendation to the engineering team about which feature to deploy. \n",
    "\n",
    "4. Create a roll-out plan. How quickly will you introduce the feature to your audience?\n"
   ]
  },
  {
   "cell_type": "code",
   "execution_count": 1,
   "metadata": {},
   "outputs": [
    {
     "data": {
      "text/html": [
       "<div>\n",
       "<style scoped>\n",
       "    .dataframe tbody tr th:only-of-type {\n",
       "        vertical-align: middle;\n",
       "    }\n",
       "\n",
       "    .dataframe tbody tr th {\n",
       "        vertical-align: top;\n",
       "    }\n",
       "\n",
       "    .dataframe thead th {\n",
       "        text-align: right;\n",
       "    }\n",
       "</style>\n",
       "<table border=\"1\" class=\"dataframe\">\n",
       "  <thead>\n",
       "    <tr style=\"text-align: right;\">\n",
       "      <th></th>\n",
       "      <th>Unnamed: 0</th>\n",
       "      <th>Age</th>\n",
       "      <th>Location</th>\n",
       "      <th>Device</th>\n",
       "      <th>Variant</th>\n",
       "      <th>Time Spent</th>\n",
       "      <th>CTR</th>\n",
       "    </tr>\n",
       "  </thead>\n",
       "  <tbody>\n",
       "    <tr>\n",
       "      <th>0</th>\n",
       "      <td>0</td>\n",
       "      <td>62</td>\n",
       "      <td>Location2</td>\n",
       "      <td>Device2</td>\n",
       "      <td>Control</td>\n",
       "      <td>13.928669</td>\n",
       "      <td>0.084776</td>\n",
       "    </tr>\n",
       "    <tr>\n",
       "      <th>1</th>\n",
       "      <td>1</td>\n",
       "      <td>18</td>\n",
       "      <td>Location1</td>\n",
       "      <td>Device1</td>\n",
       "      <td>Variant B</td>\n",
       "      <td>11.310518</td>\n",
       "      <td>0.096859</td>\n",
       "    </tr>\n",
       "    <tr>\n",
       "      <th>2</th>\n",
       "      <td>2</td>\n",
       "      <td>21</td>\n",
       "      <td>Location2</td>\n",
       "      <td>Device1</td>\n",
       "      <td>Variant B</td>\n",
       "      <td>24.842100</td>\n",
       "      <td>0.097630</td>\n",
       "    </tr>\n",
       "    <tr>\n",
       "      <th>3</th>\n",
       "      <td>3</td>\n",
       "      <td>21</td>\n",
       "      <td>Location1</td>\n",
       "      <td>Device3</td>\n",
       "      <td>Variant B</td>\n",
       "      <td>20.061300</td>\n",
       "      <td>0.109783</td>\n",
       "    </tr>\n",
       "    <tr>\n",
       "      <th>4</th>\n",
       "      <td>4</td>\n",
       "      <td>57</td>\n",
       "      <td>Location1</td>\n",
       "      <td>Device2</td>\n",
       "      <td>Variant B</td>\n",
       "      <td>34.495503</td>\n",
       "      <td>0.068579</td>\n",
       "    </tr>\n",
       "    <tr>\n",
       "      <th>5</th>\n",
       "      <td>5</td>\n",
       "      <td>27</td>\n",
       "      <td>Location3</td>\n",
       "      <td>Device1</td>\n",
       "      <td>Variant B</td>\n",
       "      <td>26.129246</td>\n",
       "      <td>0.149341</td>\n",
       "    </tr>\n",
       "    <tr>\n",
       "      <th>6</th>\n",
       "      <td>6</td>\n",
       "      <td>37</td>\n",
       "      <td>Location3</td>\n",
       "      <td>Device3</td>\n",
       "      <td>Variant B</td>\n",
       "      <td>20.525362</td>\n",
       "      <td>0.095788</td>\n",
       "    </tr>\n",
       "    <tr>\n",
       "      <th>7</th>\n",
       "      <td>7</td>\n",
       "      <td>39</td>\n",
       "      <td>Location2</td>\n",
       "      <td>Device1</td>\n",
       "      <td>Variant A</td>\n",
       "      <td>21.525217</td>\n",
       "      <td>0.149985</td>\n",
       "    </tr>\n",
       "    <tr>\n",
       "      <th>8</th>\n",
       "      <td>8</td>\n",
       "      <td>54</td>\n",
       "      <td>Location3</td>\n",
       "      <td>Device2</td>\n",
       "      <td>Control</td>\n",
       "      <td>21.910608</td>\n",
       "      <td>0.135535</td>\n",
       "    </tr>\n",
       "    <tr>\n",
       "      <th>9</th>\n",
       "      <td>9</td>\n",
       "      <td>41</td>\n",
       "      <td>Location1</td>\n",
       "      <td>Device2</td>\n",
       "      <td>Variant A</td>\n",
       "      <td>27.642788</td>\n",
       "      <td>0.137266</td>\n",
       "    </tr>\n",
       "  </tbody>\n",
       "</table>\n",
       "</div>"
      ],
      "text/plain": [
       "   Unnamed: 0  Age   Location   Device    Variant  Time Spent       CTR\n",
       "0           0   62  Location2  Device2    Control   13.928669  0.084776\n",
       "1           1   18  Location1  Device1  Variant B   11.310518  0.096859\n",
       "2           2   21  Location2  Device1  Variant B   24.842100  0.097630\n",
       "3           3   21  Location1  Device3  Variant B   20.061300  0.109783\n",
       "4           4   57  Location1  Device2  Variant B   34.495503  0.068579\n",
       "5           5   27  Location3  Device1  Variant B   26.129246  0.149341\n",
       "6           6   37  Location3  Device3  Variant B   20.525362  0.095788\n",
       "7           7   39  Location2  Device1  Variant A   21.525217  0.149985\n",
       "8           8   54  Location3  Device2    Control   21.910608  0.135535\n",
       "9           9   41  Location1  Device2  Variant A   27.642788  0.137266"
      ]
     },
     "execution_count": 1,
     "metadata": {},
     "output_type": "execute_result"
    }
   ],
   "source": [
    "import numpy as np\n",
    "import pandas as pd\n",
    "from scipy import stats\n",
    "import seaborn as sns\n",
    "\n",
    "# Load the data set\n",
    "df = pd.read_csv(\"experiment_dataset.csv\")\n",
    "# load through github alternatively if the dataset is not in your local directory\n",
    "# df = pd.read_csv(\"https://raw.githubusercontent.com/JinL-Zhang/Schulich_MBAN-6110-Data_Science-/main/Statistical_Testing/experiment_dataset.csv\")\n",
    "\n",
    "df.head(10) # display the first 10 records "
   ]
  },
  {
   "cell_type": "code",
   "execution_count": 2,
   "metadata": {},
   "outputs": [
    {
     "name": "stdout",
     "output_type": "stream",
     "text": [
      "<class 'pandas.core.frame.DataFrame'>\n",
      "RangeIndex: 1000 entries, 0 to 999\n",
      "Data columns (total 6 columns):\n",
      " #   Column      Non-Null Count  Dtype  \n",
      "---  ------      --------------  -----  \n",
      " 0   Age         1000 non-null   int64  \n",
      " 1   Location    1000 non-null   object \n",
      " 2   Device      1000 non-null   object \n",
      " 3   Variant     1000 non-null   object \n",
      " 4   Time Spent  1000 non-null   float64\n",
      " 5   CTR         1000 non-null   float64\n",
      "dtypes: float64(2), int64(1), object(3)\n",
      "memory usage: 47.0+ KB\n"
     ]
    }
   ],
   "source": [
    "# drop out the unncessary index column\n",
    "df.drop(columns=['Unnamed: 0'], inplace=True)\n",
    "df.info()\n",
    "\n",
    "# The data is quite clean as there are no missing values within the dataset"
   ]
  },
  {
   "cell_type": "code",
   "execution_count": 3,
   "metadata": {},
   "outputs": [
    {
     "data": {
      "text/html": [
       "<div>\n",
       "<style scoped>\n",
       "    .dataframe tbody tr th:only-of-type {\n",
       "        vertical-align: middle;\n",
       "    }\n",
       "\n",
       "    .dataframe tbody tr th {\n",
       "        vertical-align: top;\n",
       "    }\n",
       "\n",
       "    .dataframe thead th {\n",
       "        text-align: right;\n",
       "    }\n",
       "</style>\n",
       "<table border=\"1\" class=\"dataframe\">\n",
       "  <thead>\n",
       "    <tr style=\"text-align: right;\">\n",
       "      <th></th>\n",
       "      <th>Age</th>\n",
       "      <th>Location</th>\n",
       "      <th>Device</th>\n",
       "      <th>Variant</th>\n",
       "      <th>Time Spent</th>\n",
       "      <th>CTR</th>\n",
       "    </tr>\n",
       "  </thead>\n",
       "  <tbody>\n",
       "    <tr>\n",
       "      <th>count</th>\n",
       "      <td>1000.000000</td>\n",
       "      <td>1000</td>\n",
       "      <td>1000</td>\n",
       "      <td>1000</td>\n",
       "      <td>1000.000000</td>\n",
       "      <td>1000.000000</td>\n",
       "    </tr>\n",
       "    <tr>\n",
       "      <th>unique</th>\n",
       "      <td>NaN</td>\n",
       "      <td>3</td>\n",
       "      <td>3</td>\n",
       "      <td>3</td>\n",
       "      <td>NaN</td>\n",
       "      <td>NaN</td>\n",
       "    </tr>\n",
       "    <tr>\n",
       "      <th>top</th>\n",
       "      <td>NaN</td>\n",
       "      <td>Location2</td>\n",
       "      <td>Device3</td>\n",
       "      <td>Control</td>\n",
       "      <td>NaN</td>\n",
       "      <td>NaN</td>\n",
       "    </tr>\n",
       "    <tr>\n",
       "      <th>freq</th>\n",
       "      <td>NaN</td>\n",
       "      <td>343</td>\n",
       "      <td>346</td>\n",
       "      <td>340</td>\n",
       "      <td>NaN</td>\n",
       "      <td>NaN</td>\n",
       "    </tr>\n",
       "    <tr>\n",
       "      <th>mean</th>\n",
       "      <td>40.715000</td>\n",
       "      <td>NaN</td>\n",
       "      <td>NaN</td>\n",
       "      <td>NaN</td>\n",
       "      <td>22.713345</td>\n",
       "      <td>0.109145</td>\n",
       "    </tr>\n",
       "    <tr>\n",
       "      <th>std</th>\n",
       "      <td>13.655557</td>\n",
       "      <td>NaN</td>\n",
       "      <td>NaN</td>\n",
       "      <td>NaN</td>\n",
       "      <td>5.479292</td>\n",
       "      <td>0.022366</td>\n",
       "    </tr>\n",
       "    <tr>\n",
       "      <th>min</th>\n",
       "      <td>18.000000</td>\n",
       "      <td>NaN</td>\n",
       "      <td>NaN</td>\n",
       "      <td>NaN</td>\n",
       "      <td>7.114806</td>\n",
       "      <td>0.012975</td>\n",
       "    </tr>\n",
       "    <tr>\n",
       "      <th>25%</th>\n",
       "      <td>28.000000</td>\n",
       "      <td>NaN</td>\n",
       "      <td>NaN</td>\n",
       "      <td>NaN</td>\n",
       "      <td>19.216608</td>\n",
       "      <td>0.094286</td>\n",
       "    </tr>\n",
       "    <tr>\n",
       "      <th>50%</th>\n",
       "      <td>41.000000</td>\n",
       "      <td>NaN</td>\n",
       "      <td>NaN</td>\n",
       "      <td>NaN</td>\n",
       "      <td>22.506707</td>\n",
       "      <td>0.108944</td>\n",
       "    </tr>\n",
       "    <tr>\n",
       "      <th>75%</th>\n",
       "      <td>53.000000</td>\n",
       "      <td>NaN</td>\n",
       "      <td>NaN</td>\n",
       "      <td>NaN</td>\n",
       "      <td>26.255950</td>\n",
       "      <td>0.124238</td>\n",
       "    </tr>\n",
       "    <tr>\n",
       "      <th>max</th>\n",
       "      <td>64.000000</td>\n",
       "      <td>NaN</td>\n",
       "      <td>NaN</td>\n",
       "      <td>NaN</td>\n",
       "      <td>39.395770</td>\n",
       "      <td>0.172728</td>\n",
       "    </tr>\n",
       "  </tbody>\n",
       "</table>\n",
       "</div>"
      ],
      "text/plain": [
       "                Age   Location   Device  Variant   Time Spent          CTR\n",
       "count   1000.000000       1000     1000     1000  1000.000000  1000.000000\n",
       "unique          NaN          3        3        3          NaN          NaN\n",
       "top             NaN  Location2  Device3  Control          NaN          NaN\n",
       "freq            NaN        343      346      340          NaN          NaN\n",
       "mean      40.715000        NaN      NaN      NaN    22.713345     0.109145\n",
       "std       13.655557        NaN      NaN      NaN     5.479292     0.022366\n",
       "min       18.000000        NaN      NaN      NaN     7.114806     0.012975\n",
       "25%       28.000000        NaN      NaN      NaN    19.216608     0.094286\n",
       "50%       41.000000        NaN      NaN      NaN    22.506707     0.108944\n",
       "75%       53.000000        NaN      NaN      NaN    26.255950     0.124238\n",
       "max       64.000000        NaN      NaN      NaN    39.395770     0.172728"
      ]
     },
     "execution_count": 3,
     "metadata": {},
     "output_type": "execute_result"
    }
   ],
   "source": [
    "df.describe(include='all')"
   ]
  },
  {
   "attachments": {},
   "cell_type": "markdown",
   "metadata": {},
   "source": [
    "#### Partition the dataset into 3 variant groups"
   ]
  },
  {
   "cell_type": "code",
   "execution_count": 4,
   "metadata": {},
   "outputs": [
    {
     "data": {
      "text/html": [
       "<div>\n",
       "<style scoped>\n",
       "    .dataframe tbody tr th:only-of-type {\n",
       "        vertical-align: middle;\n",
       "    }\n",
       "\n",
       "    .dataframe tbody tr th {\n",
       "        vertical-align: top;\n",
       "    }\n",
       "\n",
       "    .dataframe thead th {\n",
       "        text-align: right;\n",
       "    }\n",
       "</style>\n",
       "<table border=\"1\" class=\"dataframe\">\n",
       "  <thead>\n",
       "    <tr style=\"text-align: right;\">\n",
       "      <th></th>\n",
       "      <th>index</th>\n",
       "      <th>Age</th>\n",
       "      <th>Location</th>\n",
       "      <th>Device</th>\n",
       "      <th>Variant</th>\n",
       "      <th>Time Spent</th>\n",
       "      <th>CTR</th>\n",
       "    </tr>\n",
       "  </thead>\n",
       "  <tbody>\n",
       "    <tr>\n",
       "      <th>0</th>\n",
       "      <td>0</td>\n",
       "      <td>62</td>\n",
       "      <td>Location2</td>\n",
       "      <td>Device2</td>\n",
       "      <td>Control</td>\n",
       "      <td>13.928669</td>\n",
       "      <td>0.084776</td>\n",
       "    </tr>\n",
       "    <tr>\n",
       "      <th>1</th>\n",
       "      <td>8</td>\n",
       "      <td>54</td>\n",
       "      <td>Location3</td>\n",
       "      <td>Device2</td>\n",
       "      <td>Control</td>\n",
       "      <td>21.910608</td>\n",
       "      <td>0.135535</td>\n",
       "    </tr>\n",
       "    <tr>\n",
       "      <th>2</th>\n",
       "      <td>16</td>\n",
       "      <td>57</td>\n",
       "      <td>Location1</td>\n",
       "      <td>Device3</td>\n",
       "      <td>Control</td>\n",
       "      <td>37.527368</td>\n",
       "      <td>0.130966</td>\n",
       "    </tr>\n",
       "    <tr>\n",
       "      <th>3</th>\n",
       "      <td>19</td>\n",
       "      <td>42</td>\n",
       "      <td>Location1</td>\n",
       "      <td>Device3</td>\n",
       "      <td>Control</td>\n",
       "      <td>21.532687</td>\n",
       "      <td>0.081168</td>\n",
       "    </tr>\n",
       "    <tr>\n",
       "      <th>4</th>\n",
       "      <td>22</td>\n",
       "      <td>43</td>\n",
       "      <td>Location3</td>\n",
       "      <td>Device1</td>\n",
       "      <td>Control</td>\n",
       "      <td>16.171548</td>\n",
       "      <td>0.085845</td>\n",
       "    </tr>\n",
       "    <tr>\n",
       "      <th>...</th>\n",
       "      <td>...</td>\n",
       "      <td>...</td>\n",
       "      <td>...</td>\n",
       "      <td>...</td>\n",
       "      <td>...</td>\n",
       "      <td>...</td>\n",
       "      <td>...</td>\n",
       "    </tr>\n",
       "    <tr>\n",
       "      <th>335</th>\n",
       "      <td>986</td>\n",
       "      <td>21</td>\n",
       "      <td>Location3</td>\n",
       "      <td>Device1</td>\n",
       "      <td>Control</td>\n",
       "      <td>22.134507</td>\n",
       "      <td>0.106503</td>\n",
       "    </tr>\n",
       "    <tr>\n",
       "      <th>336</th>\n",
       "      <td>990</td>\n",
       "      <td>54</td>\n",
       "      <td>Location3</td>\n",
       "      <td>Device1</td>\n",
       "      <td>Control</td>\n",
       "      <td>19.357402</td>\n",
       "      <td>0.100896</td>\n",
       "    </tr>\n",
       "    <tr>\n",
       "      <th>337</th>\n",
       "      <td>994</td>\n",
       "      <td>52</td>\n",
       "      <td>Location1</td>\n",
       "      <td>Device2</td>\n",
       "      <td>Control</td>\n",
       "      <td>15.012350</td>\n",
       "      <td>0.071914</td>\n",
       "    </tr>\n",
       "    <tr>\n",
       "      <th>338</th>\n",
       "      <td>996</td>\n",
       "      <td>38</td>\n",
       "      <td>Location3</td>\n",
       "      <td>Device2</td>\n",
       "      <td>Control</td>\n",
       "      <td>30.075898</td>\n",
       "      <td>0.078151</td>\n",
       "    </tr>\n",
       "    <tr>\n",
       "      <th>339</th>\n",
       "      <td>997</td>\n",
       "      <td>60</td>\n",
       "      <td>Location2</td>\n",
       "      <td>Device3</td>\n",
       "      <td>Control</td>\n",
       "      <td>31.929223</td>\n",
       "      <td>0.125213</td>\n",
       "    </tr>\n",
       "  </tbody>\n",
       "</table>\n",
       "<p>340 rows × 7 columns</p>\n",
       "</div>"
      ],
      "text/plain": [
       "     index  Age   Location   Device  Variant  Time Spent       CTR\n",
       "0        0   62  Location2  Device2  Control   13.928669  0.084776\n",
       "1        8   54  Location3  Device2  Control   21.910608  0.135535\n",
       "2       16   57  Location1  Device3  Control   37.527368  0.130966\n",
       "3       19   42  Location1  Device3  Control   21.532687  0.081168\n",
       "4       22   43  Location3  Device1  Control   16.171548  0.085845\n",
       "..     ...  ...        ...      ...      ...         ...       ...\n",
       "335    986   21  Location3  Device1  Control   22.134507  0.106503\n",
       "336    990   54  Location3  Device1  Control   19.357402  0.100896\n",
       "337    994   52  Location1  Device2  Control   15.012350  0.071914\n",
       "338    996   38  Location3  Device2  Control   30.075898  0.078151\n",
       "339    997   60  Location2  Device3  Control   31.929223  0.125213\n",
       "\n",
       "[340 rows x 7 columns]"
      ]
     },
     "execution_count": 4,
     "metadata": {},
     "output_type": "execute_result"
    }
   ],
   "source": [
    "df_control = df[df['Variant'] == \"Control\"].reset_index()\n",
    "df_control"
   ]
  },
  {
   "cell_type": "code",
   "execution_count": 5,
   "metadata": {},
   "outputs": [
    {
     "data": {
      "text/html": [
       "<div>\n",
       "<style scoped>\n",
       "    .dataframe tbody tr th:only-of-type {\n",
       "        vertical-align: middle;\n",
       "    }\n",
       "\n",
       "    .dataframe tbody tr th {\n",
       "        vertical-align: top;\n",
       "    }\n",
       "\n",
       "    .dataframe thead th {\n",
       "        text-align: right;\n",
       "    }\n",
       "</style>\n",
       "<table border=\"1\" class=\"dataframe\">\n",
       "  <thead>\n",
       "    <tr style=\"text-align: right;\">\n",
       "      <th></th>\n",
       "      <th>index</th>\n",
       "      <th>Age</th>\n",
       "      <th>Location</th>\n",
       "      <th>Device</th>\n",
       "      <th>Variant</th>\n",
       "      <th>Time Spent</th>\n",
       "      <th>CTR</th>\n",
       "    </tr>\n",
       "  </thead>\n",
       "  <tbody>\n",
       "    <tr>\n",
       "      <th>0</th>\n",
       "      <td>7</td>\n",
       "      <td>39</td>\n",
       "      <td>Location2</td>\n",
       "      <td>Device1</td>\n",
       "      <td>Variant A</td>\n",
       "      <td>21.525217</td>\n",
       "      <td>0.149985</td>\n",
       "    </tr>\n",
       "    <tr>\n",
       "      <th>1</th>\n",
       "      <td>9</td>\n",
       "      <td>41</td>\n",
       "      <td>Location1</td>\n",
       "      <td>Device2</td>\n",
       "      <td>Variant A</td>\n",
       "      <td>27.642788</td>\n",
       "      <td>0.137266</td>\n",
       "    </tr>\n",
       "    <tr>\n",
       "      <th>2</th>\n",
       "      <td>13</td>\n",
       "      <td>30</td>\n",
       "      <td>Location2</td>\n",
       "      <td>Device3</td>\n",
       "      <td>Variant A</td>\n",
       "      <td>26.208502</td>\n",
       "      <td>0.087875</td>\n",
       "    </tr>\n",
       "    <tr>\n",
       "      <th>3</th>\n",
       "      <td>15</td>\n",
       "      <td>56</td>\n",
       "      <td>Location2</td>\n",
       "      <td>Device2</td>\n",
       "      <td>Variant A</td>\n",
       "      <td>7.800901</td>\n",
       "      <td>0.069781</td>\n",
       "    </tr>\n",
       "    <tr>\n",
       "      <th>4</th>\n",
       "      <td>17</td>\n",
       "      <td>41</td>\n",
       "      <td>Location2</td>\n",
       "      <td>Device3</td>\n",
       "      <td>Variant A</td>\n",
       "      <td>32.699437</td>\n",
       "      <td>0.114626</td>\n",
       "    </tr>\n",
       "    <tr>\n",
       "      <th>...</th>\n",
       "      <td>...</td>\n",
       "      <td>...</td>\n",
       "      <td>...</td>\n",
       "      <td>...</td>\n",
       "      <td>...</td>\n",
       "      <td>...</td>\n",
       "      <td>...</td>\n",
       "    </tr>\n",
       "    <tr>\n",
       "      <th>325</th>\n",
       "      <td>983</td>\n",
       "      <td>48</td>\n",
       "      <td>Location2</td>\n",
       "      <td>Device1</td>\n",
       "      <td>Variant A</td>\n",
       "      <td>28.171759</td>\n",
       "      <td>0.144396</td>\n",
       "    </tr>\n",
       "    <tr>\n",
       "      <th>326</th>\n",
       "      <td>984</td>\n",
       "      <td>20</td>\n",
       "      <td>Location1</td>\n",
       "      <td>Device3</td>\n",
       "      <td>Variant A</td>\n",
       "      <td>31.648129</td>\n",
       "      <td>0.121159</td>\n",
       "    </tr>\n",
       "    <tr>\n",
       "      <th>327</th>\n",
       "      <td>985</td>\n",
       "      <td>37</td>\n",
       "      <td>Location1</td>\n",
       "      <td>Device3</td>\n",
       "      <td>Variant A</td>\n",
       "      <td>24.543317</td>\n",
       "      <td>0.137414</td>\n",
       "    </tr>\n",
       "    <tr>\n",
       "      <th>328</th>\n",
       "      <td>992</td>\n",
       "      <td>44</td>\n",
       "      <td>Location1</td>\n",
       "      <td>Device2</td>\n",
       "      <td>Variant A</td>\n",
       "      <td>20.161483</td>\n",
       "      <td>0.098470</td>\n",
       "    </tr>\n",
       "    <tr>\n",
       "      <th>329</th>\n",
       "      <td>993</td>\n",
       "      <td>24</td>\n",
       "      <td>Location3</td>\n",
       "      <td>Device3</td>\n",
       "      <td>Variant A</td>\n",
       "      <td>27.390527</td>\n",
       "      <td>0.095718</td>\n",
       "    </tr>\n",
       "  </tbody>\n",
       "</table>\n",
       "<p>330 rows × 7 columns</p>\n",
       "</div>"
      ],
      "text/plain": [
       "     index  Age   Location   Device    Variant  Time Spent       CTR\n",
       "0        7   39  Location2  Device1  Variant A   21.525217  0.149985\n",
       "1        9   41  Location1  Device2  Variant A   27.642788  0.137266\n",
       "2       13   30  Location2  Device3  Variant A   26.208502  0.087875\n",
       "3       15   56  Location2  Device2  Variant A    7.800901  0.069781\n",
       "4       17   41  Location2  Device3  Variant A   32.699437  0.114626\n",
       "..     ...  ...        ...      ...        ...         ...       ...\n",
       "325    983   48  Location2  Device1  Variant A   28.171759  0.144396\n",
       "326    984   20  Location1  Device3  Variant A   31.648129  0.121159\n",
       "327    985   37  Location1  Device3  Variant A   24.543317  0.137414\n",
       "328    992   44  Location1  Device2  Variant A   20.161483  0.098470\n",
       "329    993   24  Location3  Device3  Variant A   27.390527  0.095718\n",
       "\n",
       "[330 rows x 7 columns]"
      ]
     },
     "execution_count": 5,
     "metadata": {},
     "output_type": "execute_result"
    }
   ],
   "source": [
    "df_var_a = df[df['Variant'] == \"Variant A\"].reset_index()\n",
    "df_var_a"
   ]
  },
  {
   "cell_type": "code",
   "execution_count": 6,
   "metadata": {},
   "outputs": [
    {
     "data": {
      "text/html": [
       "<div>\n",
       "<style scoped>\n",
       "    .dataframe tbody tr th:only-of-type {\n",
       "        vertical-align: middle;\n",
       "    }\n",
       "\n",
       "    .dataframe tbody tr th {\n",
       "        vertical-align: top;\n",
       "    }\n",
       "\n",
       "    .dataframe thead th {\n",
       "        text-align: right;\n",
       "    }\n",
       "</style>\n",
       "<table border=\"1\" class=\"dataframe\">\n",
       "  <thead>\n",
       "    <tr style=\"text-align: right;\">\n",
       "      <th></th>\n",
       "      <th>index</th>\n",
       "      <th>Age</th>\n",
       "      <th>Location</th>\n",
       "      <th>Device</th>\n",
       "      <th>Variant</th>\n",
       "      <th>Time Spent</th>\n",
       "      <th>CTR</th>\n",
       "    </tr>\n",
       "  </thead>\n",
       "  <tbody>\n",
       "    <tr>\n",
       "      <th>0</th>\n",
       "      <td>1</td>\n",
       "      <td>18</td>\n",
       "      <td>Location1</td>\n",
       "      <td>Device1</td>\n",
       "      <td>Variant B</td>\n",
       "      <td>11.310518</td>\n",
       "      <td>0.096859</td>\n",
       "    </tr>\n",
       "    <tr>\n",
       "      <th>1</th>\n",
       "      <td>2</td>\n",
       "      <td>21</td>\n",
       "      <td>Location2</td>\n",
       "      <td>Device1</td>\n",
       "      <td>Variant B</td>\n",
       "      <td>24.842100</td>\n",
       "      <td>0.097630</td>\n",
       "    </tr>\n",
       "    <tr>\n",
       "      <th>2</th>\n",
       "      <td>3</td>\n",
       "      <td>21</td>\n",
       "      <td>Location1</td>\n",
       "      <td>Device3</td>\n",
       "      <td>Variant B</td>\n",
       "      <td>20.061300</td>\n",
       "      <td>0.109783</td>\n",
       "    </tr>\n",
       "    <tr>\n",
       "      <th>3</th>\n",
       "      <td>4</td>\n",
       "      <td>57</td>\n",
       "      <td>Location1</td>\n",
       "      <td>Device2</td>\n",
       "      <td>Variant B</td>\n",
       "      <td>34.495503</td>\n",
       "      <td>0.068579</td>\n",
       "    </tr>\n",
       "    <tr>\n",
       "      <th>4</th>\n",
       "      <td>5</td>\n",
       "      <td>27</td>\n",
       "      <td>Location3</td>\n",
       "      <td>Device1</td>\n",
       "      <td>Variant B</td>\n",
       "      <td>26.129246</td>\n",
       "      <td>0.149341</td>\n",
       "    </tr>\n",
       "    <tr>\n",
       "      <th>...</th>\n",
       "      <td>...</td>\n",
       "      <td>...</td>\n",
       "      <td>...</td>\n",
       "      <td>...</td>\n",
       "      <td>...</td>\n",
       "      <td>...</td>\n",
       "      <td>...</td>\n",
       "    </tr>\n",
       "    <tr>\n",
       "      <th>325</th>\n",
       "      <td>989</td>\n",
       "      <td>31</td>\n",
       "      <td>Location2</td>\n",
       "      <td>Device2</td>\n",
       "      <td>Variant B</td>\n",
       "      <td>32.952763</td>\n",
       "      <td>0.098476</td>\n",
       "    </tr>\n",
       "    <tr>\n",
       "      <th>326</th>\n",
       "      <td>991</td>\n",
       "      <td>35</td>\n",
       "      <td>Location3</td>\n",
       "      <td>Device1</td>\n",
       "      <td>Variant B</td>\n",
       "      <td>22.409808</td>\n",
       "      <td>0.100951</td>\n",
       "    </tr>\n",
       "    <tr>\n",
       "      <th>327</th>\n",
       "      <td>995</td>\n",
       "      <td>39</td>\n",
       "      <td>Location2</td>\n",
       "      <td>Device2</td>\n",
       "      <td>Variant B</td>\n",
       "      <td>17.252030</td>\n",
       "      <td>0.092211</td>\n",
       "    </tr>\n",
       "    <tr>\n",
       "      <th>328</th>\n",
       "      <td>998</td>\n",
       "      <td>35</td>\n",
       "      <td>Location2</td>\n",
       "      <td>Device2</td>\n",
       "      <td>Variant B</td>\n",
       "      <td>14.680299</td>\n",
       "      <td>0.095423</td>\n",
       "    </tr>\n",
       "    <tr>\n",
       "      <th>329</th>\n",
       "      <td>999</td>\n",
       "      <td>55</td>\n",
       "      <td>Location1</td>\n",
       "      <td>Device1</td>\n",
       "      <td>Variant B</td>\n",
       "      <td>25.803169</td>\n",
       "      <td>0.166688</td>\n",
       "    </tr>\n",
       "  </tbody>\n",
       "</table>\n",
       "<p>330 rows × 7 columns</p>\n",
       "</div>"
      ],
      "text/plain": [
       "     index  Age   Location   Device    Variant  Time Spent       CTR\n",
       "0        1   18  Location1  Device1  Variant B   11.310518  0.096859\n",
       "1        2   21  Location2  Device1  Variant B   24.842100  0.097630\n",
       "2        3   21  Location1  Device3  Variant B   20.061300  0.109783\n",
       "3        4   57  Location1  Device2  Variant B   34.495503  0.068579\n",
       "4        5   27  Location3  Device1  Variant B   26.129246  0.149341\n",
       "..     ...  ...        ...      ...        ...         ...       ...\n",
       "325    989   31  Location2  Device2  Variant B   32.952763  0.098476\n",
       "326    991   35  Location3  Device1  Variant B   22.409808  0.100951\n",
       "327    995   39  Location2  Device2  Variant B   17.252030  0.092211\n",
       "328    998   35  Location2  Device2  Variant B   14.680299  0.095423\n",
       "329    999   55  Location1  Device1  Variant B   25.803169  0.166688\n",
       "\n",
       "[330 rows x 7 columns]"
      ]
     },
     "execution_count": 6,
     "metadata": {},
     "output_type": "execute_result"
    }
   ],
   "source": [
    "df_var_b = df[df['Variant'] == \"Variant B\"].reset_index()\n",
    "df_var_b"
   ]
  },
  {
   "attachments": {},
   "cell_type": "markdown",
   "metadata": {},
   "source": [
    "We can see that the number of variant A samples is equal to that of variant B samples, while the number of control samples is slightly more than that of variant samples, indicating that the comparisons without using average() between the 3 groups may also be acceptable (as the 3 groups have the similar numbers of records)"
   ]
  },
  {
   "attachments": {},
   "cell_type": "markdown",
   "metadata": {},
   "source": [
    "### Assuming the populations from which the samples were obtained are normally or approximately normally distributed, and homoscedastic. Then, the independent t-test can be performed as the starting point"
   ]
  },
  {
   "attachments": {},
   "cell_type": "markdown",
   "metadata": {},
   "source": [
    "#### However, before moving into determining which variant (if any) results in CTR or Time Spent lift, we may need to ensure that the 'Time Spent' and 'CTR' are independent from categorical variables 'Location' and 'Device' for the 3 variant groups. So that we can assure that the increase in the 'Time Spent' and 'CTR' can be majorly attributed to the feature variant difference ('age' is ignored here as we will perform testings on 'age' later)"
   ]
  },
  {
   "attachments": {},
   "cell_type": "markdown",
   "metadata": {},
   "source": [
    "#### Test if 'Time Spent' is independent of 'location' for the 3 groups, assuming the significance level (alpha) being 0.05"
   ]
  },
  {
   "cell_type": "code",
   "execution_count": 7,
   "metadata": {},
   "outputs": [
    {
     "name": "stdout",
     "output_type": "stream",
     "text": [
      "F-statistic: 0.5311296350355236\n",
      "P-value: 0.5884317676358968\n"
     ]
    }
   ],
   "source": [
    "# For the control group\n",
    "# Finds out the 'Time Spent' data for each 'Location' as a list\n",
    "CategoryGroupLists=df_control.groupby('Location')['Time Spent'].apply(list)\n",
    " \n",
    "# Performing the ANOVA test\n",
    "# We accept the H0 only when P-Value > 0.05\n",
    "f_stat, p_val = stats.f_oneway(*CategoryGroupLists)\n",
    "\n",
    "# NOte: Null hypothesis is that 'Time Spent' and 'location' are NOT correlated, \n",
    "# namely the population means of all groups are equal\n",
    "\n",
    "print(f\"F-statistic: {f_stat}\")\n",
    "print(f\"P-value: {p_val}\")"
   ]
  },
  {
   "cell_type": "code",
   "execution_count": 8,
   "metadata": {},
   "outputs": [
    {
     "name": "stdout",
     "output_type": "stream",
     "text": [
      "F-statistic: 0.10786865370947395\n",
      "P-value: 0.8977774352465695\n"
     ]
    }
   ],
   "source": [
    "# For the variant A group\n",
    "# Finds out the 'Time Spent' data for each 'Location' as a list\n",
    "CategoryGroupLists=df_var_a.groupby('Location')['Time Spent'].apply(list)\n",
    " \n",
    "# Performing the ANOVA test\n",
    "# We accept the H0 only when P-Value > 0.05\n",
    "f_stat, p_val = stats.f_oneway(*CategoryGroupLists)\n",
    "\n",
    "# NOte: Null hypothesis is that 'Time Spent' and 'location' are NOT correlated, \n",
    "# namely the population means of all groups are equal\n",
    "\n",
    "print(f\"F-statistic: {f_stat}\")\n",
    "print(f\"P-value: {p_val}\")"
   ]
  },
  {
   "cell_type": "code",
   "execution_count": 9,
   "metadata": {},
   "outputs": [
    {
     "name": "stdout",
     "output_type": "stream",
     "text": [
      "F-statistic: 0.7282411459489533\n",
      "P-value: 0.4835386034301028\n"
     ]
    }
   ],
   "source": [
    "# For the variant B group\n",
    "# Finds out the 'Time Spent' data for each 'Location' as a list\n",
    "CategoryGroupLists=df_var_b.groupby('Location')['Time Spent'].apply(list)\n",
    " \n",
    "# Performing the ANOVA test\n",
    "# We accept the H0 only when P-Value > 0.05\n",
    "f_stat, p_val = stats.f_oneway(*CategoryGroupLists)\n",
    "\n",
    "# NOte: Null hypothesis is that 'Time Spent' and 'location' are NOT correlated, \n",
    "# namely the population means of all groups are equal\n",
    "\n",
    "print(f\"F-statistic: {f_stat}\")\n",
    "print(f\"P-value: {p_val}\")"
   ]
  },
  {
   "attachments": {},
   "cell_type": "markdown",
   "metadata": {},
   "source": [
    "#### Since all the p-values are much larger than 0.05, we can safely assure that the 'location' are uncorrelated with 'Time Spent' (null hypothesis is true) for the 3 variant groups\n",
    "#### Now, we can quickly test if the 'location' are correlated with 'CTR' for the 3 variant groups"
   ]
  },
  {
   "cell_type": "code",
   "execution_count": 10,
   "metadata": {},
   "outputs": [
    {
     "name": "stdout",
     "output_type": "stream",
     "text": [
      "F-statistic: 0.35909297723125644\n",
      "P-value: 0.698576290576147\n",
      "\n",
      "F-statistic: 1.2708992496308231\n",
      "P-value: 0.28196134434679404\n",
      "\n",
      "F-statistic: 0.7332333999893166\n",
      "P-value: 0.4811413587711958\n",
      "\n"
     ]
    }
   ],
   "source": [
    "# Finds out the 'CTR' data for each 'Location' as a list\n",
    "controlLists=df_control.groupby('Location')['CTR'].apply(list)\n",
    "var_a_Lists=df_var_a.groupby('Location')['CTR'].apply(list)\n",
    "var_b_Lists=df_var_b.groupby('Location')['CTR'].apply(list)\n",
    "\n",
    "# Performing the ANOVA test\n",
    "# We accept the H0 only when P-Value > 0.05\n",
    "for i in [controlLists,var_a_Lists,var_b_Lists]:\n",
    "    f_stat, p_val = stats.f_oneway(*i)\n",
    "    print(f\"F-statistic: {f_stat}\")\n",
    "    print(f\"P-value: {p_val}\")\n",
    "    print()\n",
    "\n",
    "# Note: Null hypothesis is that 'Time Spent' and 'location' are NOT correlated, \n",
    "# namely the population means of all groups are equal\n",
    "\n"
   ]
  },
  {
   "attachments": {},
   "cell_type": "markdown",
   "metadata": {},
   "source": [
    "#### Again, all p-value > 0.05, we safely assure that the 'location' are uncorrelated with 'CTR'\n",
    "#### First insight: Location of users for the 3 groups do not affect the user's time spent and CTR (as no statistically significant difference detected) \n",
    "#### Now, we need to verify if we can arrive the same conclusion for 'device'"
   ]
  },
  {
   "cell_type": "code",
   "execution_count": 11,
   "metadata": {},
   "outputs": [
    {
     "name": "stdout",
     "output_type": "stream",
     "text": [
      "F-statistic: 0.10031914209301424\n",
      "P-value: 0.9045756948934269\n",
      "\n",
      "F-statistic: 1.7320204846271345\n",
      "P-value: 0.17854568490768422\n",
      "\n",
      "F-statistic: 0.576083130987154\n",
      "P-value: 0.5626651374654156\n",
      "\n"
     ]
    }
   ],
   "source": [
    "# Finds out the 'CTR' data for each 'device' as a list\n",
    "controlLists=df_control.groupby('Device')['CTR'].apply(list)\n",
    "var_a_Lists=df_var_a.groupby('Device')['CTR'].apply(list)\n",
    "var_b_Lists=df_var_b.groupby('Device')['CTR'].apply(list)\n",
    "\n",
    "# Performing the ANOVA test\n",
    "# We accept the H0 only when P-Value > 0.05\n",
    "for i in [controlLists,var_a_Lists,var_b_Lists]:\n",
    "    f_stat, p_val = stats.f_oneway(*i)\n",
    "    print(f\"F-statistic: {f_stat}\")\n",
    "    print(f\"P-value: {p_val}\")\n",
    "    print()\n"
   ]
  },
  {
   "cell_type": "code",
   "execution_count": 12,
   "metadata": {},
   "outputs": [
    {
     "name": "stdout",
     "output_type": "stream",
     "text": [
      "F-statistic: 0.3823447515565521\n",
      "P-value: 0.6825553776327133\n",
      "\n",
      "F-statistic: 0.6105113572129155\n",
      "P-value: 0.5436909187739365\n",
      "\n",
      "F-statistic: 1.2031299296930864\n",
      "P-value: 0.30157852319491746\n",
      "\n"
     ]
    }
   ],
   "source": [
    "# Finds out the 'Time Spent' data for each 'device' as a list\n",
    "controlLists=df_control.groupby('Device')['Time Spent'].apply(list)\n",
    "var_a_Lists=df_var_a.groupby('Device')['Time Spent'].apply(list)\n",
    "var_b_Lists=df_var_b.groupby('Device')['Time Spent'].apply(list)\n",
    "\n",
    "# Performing the ANOVA test\n",
    "# We accept the H0 only when P-Value > 0.05\n",
    "for i in [controlLists,var_a_Lists,var_b_Lists]:\n",
    "    f_stat, p_val = stats.f_oneway(*i)\n",
    "    print(f\"F-statistic: {f_stat}\")\n",
    "    print(f\"P-value: {p_val}\")\n",
    "    print()"
   ]
  },
  {
   "attachments": {},
   "cell_type": "markdown",
   "metadata": {},
   "source": [
    "#### Once again, all p-value > 0.05, we can safely assure that the 'device' is also uncorrelated with 'CTR' and 'Time Spent'\n",
    "#### Second insight: Devices of users for the 3 groups do not affect the user's time spent and CTR "
   ]
  },
  {
   "attachments": {},
   "cell_type": "markdown",
   "metadata": {},
   "source": [
    "#### Now, we can use unpaired / independent t-test to determine which variant (if any) results in CTR or Time Spent lift.\n",
    "Note: The paired t-test is often used when we are interested in the difference between two variables for the same subject. Often the two variables are separated by time. Hence, as we have control and variant groups in this case (subject of 2 groups are different), paired t-test should not be used, but the independent t-test  "
   ]
  },
  {
   "cell_type": "code",
   "execution_count": 13,
   "metadata": {},
   "outputs": [
    {
     "name": "stdout",
     "output_type": "stream",
     "text": [
      "T-statistic: 12.142363487472364\n",
      "P-value: 4.2442828224982245e-31\n",
      "\n",
      "T-statistic: 8.174237395991806\n",
      "P-value: 7.48179038142591e-16\n",
      "\n"
     ]
    }
   ],
   "source": [
    "# Since we want to see if the variant group increase the time spent or not, we should conduct a right-tail test\n",
    "\n",
    "for i in [df_var_a['Time Spent'], df_var_b['Time Spent']]:\n",
    "    t_stat, p_val = stats.ttest_ind(i, df_control['Time Spent'], alternative='greater')\n",
    "    # \".ttest_ind()\" defaults to give a null hypothesis that the population mean of the 2 provided groups are the same \n",
    "    # However, for a right-tailed t-test, the null hypothesis will be that \n",
    "    # the population mean of the first group (variant) is less than or equal to the population mean of the second group (controlled).\n",
    "    # Thus, if p <= 0.05, then the population mean of the first group (variant) is greater than the population mean of the second group (controlled).\n",
    "\n",
    "    print(f\"T-statistic: {t_stat}\")\n",
    "    print(f\"P-value: {p_val}\")\n",
    "    print()\n",
    "\n"
   ]
  },
  {
   "cell_type": "code",
   "execution_count": 14,
   "metadata": {},
   "outputs": [
    {
     "name": "stdout",
     "output_type": "stream",
     "text": [
      "T-statistic: 13.829424737499187\n",
      "P-value: 9.801390686621579e-39\n",
      "\n",
      "T-statistic: 6.4718143491783255\n",
      "P-value: 9.371599099991053e-11\n",
      "\n"
     ]
    }
   ],
   "source": [
    "for i in [df_var_a['CTR'], df_var_b['CTR']]:\n",
    "    t_stat, p_val = stats.ttest_ind(i, df_control['CTR'], alternative='greater') # alternative='greater' specifies a right-tailed test\n",
    "    # \".ttest_ind()\" defaults to give a null hypothesis that the population mean of the 2 provided groups are the same \n",
    "    # However, for a right-tailed t-test, the null hypothesis will be that \n",
    "    # the population mean of the first group (variant) is less than or equal to the population mean of the second group (controlled).\n",
    "    # Thus, if p <= 0.05, then the population mean of the first group (variant) is greater than the population mean of the second group (controlled).\n",
    "\n",
    "    print(f\"T-statistic: {t_stat}\")\n",
    "    print(f\"P-value: {p_val}\")\n",
    "    print()"
   ]
  },
  {
   "attachments": {},
   "cell_type": "markdown",
   "metadata": {},
   "source": [
    "#### As observed from above, all the p-values of the right-tail tests are much less than our pre-defined significance level (0.05), rejecting the null hypothesis, meaning that the population means of the 'time spent' and 'CTR' are higher in both of the variant A and the variant B groups than the controlled group. This indicates that both of the variant features result in CTR and Time Spent lift, in which the variant A may lead to a higher increase in 'time spent' and 'CTR' as the magnitude of variant A p-value is much smaller than that of variant b (namely the differences observed in \"time spent\" and \"CTR\" between the control group and variant A are more substantial and statistically significant compared to the differences between the control group and variant B)"
   ]
  },
  {
   "cell_type": "code",
   "execution_count": 15,
   "metadata": {},
   "outputs": [
    {
     "data": {
      "text/plain": [
       "<seaborn.axisgrid.FacetGrid at 0x28a7a2200>"
      ]
     },
     "execution_count": 15,
     "metadata": {},
     "output_type": "execute_result"
    },
    {
     "data": {
      "image/png": "[encoded data removed]",
      "text/plain": [
       "<Figure size 613.5x500 with 1 Axes>"
      ]
     },
     "metadata": {},
     "output_type": "display_data"
    }
   ],
   "source": [
    "# Below visualization also support our above conclusion\n",
    "sns.lmplot(x=\"CTR\", y=\"Time Spent\",hue = \"Variant\", data= df)"
   ]
  },
  {
   "attachments": {},
   "cell_type": "markdown",
   "metadata": {},
   "source": [
    "#### The other statistical testing conducted to determine if there is a statistically significant difference between the features and the control group are shown below"
   ]
  },
  {
   "attachments": {},
   "cell_type": "markdown",
   "metadata": {},
   "source": [
    "### chi-squared test by converting the 'Time Spent' and 'CRT' into categorical variables using bins"
   ]
  },
  {
   "cell_type": "code",
   "execution_count": 16,
   "metadata": {},
   "outputs": [
    {
     "name": "stdout",
     "output_type": "stream",
     "text": [
      "Chi-squared: 118.63165238004552\n",
      "P-value: 3.158027616045154e-23\n",
      "\n",
      "Chi-squared: 154.88074389722036\n",
      "P-value: 7.181144359602532e-31\n",
      "\n"
     ]
    }
   ],
   "source": [
    "df_time_cat = pd.cut(df['Time Spent'], bins=[7, 19, 23, 26, 40]) # each bin represents a 25th percentile\n",
    "df_ctr_cat = pd.cut(df['CTR'], bins=[0.01, 0.09, 0.1, 0.12, 0.18]) # each bin represents a 25th percentile\n",
    "\n",
    "for i in [df_time_cat, df_ctr_cat]:\n",
    "    # Create a contingency table\n",
    "    contingency_table = pd.crosstab(df['Variant'], i)\n",
    "\n",
    "    chi2, p_val, dof, expected = stats.chi2_contingency(contingency_table)\n",
    "\n",
    "    print(f\"Chi-squared: {chi2}\")\n",
    "    print(f\"P-value: {p_val}\")\n",
    "    print()\n",
    "\n",
    "# again, as the two p value are very small (<< significance level), \n",
    "# the null hypothesis (categorical variables are independent) is rejected, and\n",
    "# the 2 pairs of categorical variables ('Time Spent' and 'Variant', 'CTR' and 'Variant') are somehow correlated.\n",
    "# This means that there is a statistically significant difference between the 'Time Spent' & 'CTR' and \n",
    "# the variant of the feature the users are using\n"
   ]
  },
  {
   "attachments": {},
   "cell_type": "markdown",
   "metadata": {},
   "source": [
    "### Now, let's try ANOVA test to see if there is a statistically significant difference between the 'Time Spent' & 'CTR' population means of the 3 groups"
   ]
  },
  {
   "cell_type": "code",
   "execution_count": 17,
   "metadata": {},
   "outputs": [
    {
     "name": "stdout",
     "output_type": "stream",
     "text": [
      "F-statistic: 75.60840947416146\n",
      "P-value: 2.676826588910432e-31\n",
      "\n",
      "F-statistic: 93.588915936227\n",
      "P-value: 5.638952705781955e-38\n",
      "\n"
     ]
    }
   ],
   "source": [
    "for i in ['Time Spent', 'CTR']:\n",
    "    f_stat, p_val = stats.f_oneway(df_control[i], df_var_a[i], df_var_b[i])\n",
    "\n",
    "    print(f\"F-statistic: {f_stat}\")\n",
    "    print(f\"P-value: {p_val}\")\n",
    "    print()\n",
    "\n",
    "# since the two p values are very close to 0, we know that the population means of the 3 groups for 'Time Spent' and 'CTR' are not equal\n",
    "# Note: To know which 2 groups have different population means, use the pairwise t-test on all the pairs of the 3 groups\n"
   ]
  },
  {
   "attachments": {},
   "cell_type": "markdown",
   "metadata": {},
   "source": [
    "#### Now I want to see if the variant A group has a higher 'Time Spent' or 'CTR' population mean than that of variant B"
   ]
  },
  {
   "cell_type": "code",
   "execution_count": 18,
   "metadata": {},
   "outputs": [
    {
     "name": "stdout",
     "output_type": "stream",
     "text": [
      "T-statistic: 3.6788175394209075\n",
      "P-value: 0.00012673855073826325\n",
      "\n",
      "T-statistic: 7.08499696316128\n",
      "P-value: 1.7935902439932884e-12\n",
      "\n"
     ]
    }
   ],
   "source": [
    "# perform the right-tailed independent t-test again\n",
    "for i in ['Time Spent', 'CTR']:\n",
    "    t_stat, p_val = stats.ttest_ind(df_var_a[i],df_var_b[i], alternative='greater') # alternative='greater' specifies a right-tailed test\n",
    "    # \".ttest_ind()\" defaults to give a null hypothesis that the population mean of the 2 provided groups are the same \n",
    "    # However, for a right-tailed t-test, the null hypothesis will be that \n",
    "    # the population mean of the first group (variant A) is less than or equal to the population mean of the second group (variant B).\n",
    "    # Thus, if p <= 0.05, then the population mean of the first group (variant A) is greater than the population mean of the second group (variant B).\n",
    "\n",
    "    print(f\"T-statistic: {t_stat}\")\n",
    "    print(f\"P-value: {p_val}\")\n",
    "    print()"
   ]
  },
  {
   "attachments": {},
   "cell_type": "markdown",
   "metadata": {},
   "source": [
    "### Interestingly, the variant A is yielding higher 'Time Spent' and 'CTR' than the variant B, though both of them are giving higher 'Time Spent' and 'CTR' than the control group. This may suggest that we should recommend variant A to the engineering team to deploy first."
   ]
  },
  {
   "cell_type": "code",
   "execution_count": 19,
   "metadata": {},
   "outputs": [
    {
     "data": {
      "text/html": [
       "<div>\n",
       "<style scoped>\n",
       "    .dataframe tbody tr th:only-of-type {\n",
       "        vertical-align: middle;\n",
       "    }\n",
       "\n",
       "    .dataframe tbody tr th {\n",
       "        vertical-align: top;\n",
       "    }\n",
       "\n",
       "    .dataframe thead th {\n",
       "        text-align: right;\n",
       "    }\n",
       "</style>\n",
       "<table border=\"1\" class=\"dataframe\">\n",
       "  <thead>\n",
       "    <tr style=\"text-align: right;\">\n",
       "      <th></th>\n",
       "      <th>Age</th>\n",
       "      <th>Time Spent</th>\n",
       "      <th>CTR</th>\n",
       "    </tr>\n",
       "  </thead>\n",
       "  <tbody>\n",
       "    <tr>\n",
       "      <th>Age</th>\n",
       "      <td>1.00000</td>\n",
       "      <td>0.001970</td>\n",
       "      <td>-0.001080</td>\n",
       "    </tr>\n",
       "    <tr>\n",
       "      <th>Time Spent</th>\n",
       "      <td>0.00197</td>\n",
       "      <td>1.000000</td>\n",
       "      <td>0.163598</td>\n",
       "    </tr>\n",
       "    <tr>\n",
       "      <th>CTR</th>\n",
       "      <td>-0.00108</td>\n",
       "      <td>0.163598</td>\n",
       "      <td>1.000000</td>\n",
       "    </tr>\n",
       "  </tbody>\n",
       "</table>\n",
       "</div>"
      ],
      "text/plain": [
       "                Age  Time Spent       CTR\n",
       "Age         1.00000    0.001970 -0.001080\n",
       "Time Spent  0.00197    1.000000  0.163598\n",
       "CTR        -0.00108    0.163598  1.000000"
      ]
     },
     "execution_count": 19,
     "metadata": {},
     "output_type": "execute_result"
    }
   ],
   "source": [
    "# we can also try to see if 'Time Spent' and 'CTR' are correlated or not \n",
    "df.corr(numeric_only=True)"
   ]
  },
  {
   "cell_type": "code",
   "execution_count": 20,
   "metadata": {},
   "outputs": [
    {
     "name": "stdout",
     "output_type": "stream",
     "text": [
      "Pearson's correlation: 0.16359787633728357\n",
      "P-value: 1.9711876643637825e-07\n"
     ]
    }
   ],
   "source": [
    "# Check the p-value of Pearson correlation between 'Time Spent' and 'CTR' in general\n",
    "pearson_corr, p_val = stats.pearsonr(df['Time Spent'], df['CTR']) \n",
    "print(f\"Pearson's correlation: {pearson_corr}\")\n",
    "print(f\"P-value: {p_val}\")\n",
    "\n",
    "# Since the p-values are much smaller than the significance level, we should reject the null hypothesis, which is  \n",
    "# \"No linear relationship between the 2 numeric variables\". This means that 'Time Spent' and 'CTR' are linearly correlated\n",
    "# regardless of the variant groups"
   ]
  },
  {
   "attachments": {},
   "cell_type": "markdown",
   "metadata": {},
   "source": [
    "### As observed from above 2 cells, in general, 'age' seems not be a factor that affects the 'Time Spent' and 'CTR', while there is a linear correlation between 'Time Spent' and 'CTR' (regardless of the variant groups)\n",
    "\n",
    "### Now, let's see if there is a linear relationship (Pearson's correlation) between the control group's 'Time Spent' & 'CTR' and that of the variant group"
   ]
  },
  {
   "cell_type": "code",
   "execution_count": 21,
   "metadata": {},
   "outputs": [
    {
     "name": "stdout",
     "output_type": "stream",
     "text": [
      "For Time Spent:\n",
      "Pearson's correlation: -0.05730184489350512\n",
      "P-value: 0.2993432311002936\n",
      "\n",
      "Pearson's correlation: 0.018105673359142007\n",
      "P-value: 0.7431500567618777\n",
      "\n"
     ]
    }
   ],
   "source": [
    "print(\"For Time Spent:\")\n",
    "for i in [df_var_a['Time Spent'], df_var_b['Time Spent']]:\n",
    "    pearson_corr, p_val = stats.pearsonr(df_control['Time Spent'].iloc[:330], i) # note: the control group is truncated to the same number of records in the variant groups\n",
    "    print(f\"Pearson's correlation: {pearson_corr}\")\n",
    "    print(f\"P-value: {p_val}\")\n",
    "    print()\n",
    "\n",
    "# Since the p-values are much larger than the significance level, we failed to reject the null hypothesis, which is  \n",
    "# \"No linear relationship between the 2 numeric variables\". (as the magnitudes of the correlation values are also small, \n",
    "# we can believe that there are no linear relationships between the control group time spent and the variant group time spent)"
   ]
  },
  {
   "cell_type": "code",
   "execution_count": 22,
   "metadata": {},
   "outputs": [
    {
     "name": "stdout",
     "output_type": "stream",
     "text": [
      "For CTR:\n",
      "Pearson's correlation: -0.07611528222019794\n",
      "P-value: 0.16775359253990552\n",
      "\n",
      "Pearson's correlation: -0.05701471106232506\n",
      "P-value: 0.30177530038437866\n",
      "\n"
     ]
    }
   ],
   "source": [
    "print(\"For CTR:\")\n",
    "for i in [df_var_a['CTR'], df_var_b['CTR']]:\n",
    "    pearson_corr, p_val = stats.pearsonr(df_control['CTR'].iloc[:330], i) # note: the control group is truncated to the same number of records in the variant groups\n",
    "    print(f\"Pearson's correlation: {pearson_corr}\")\n",
    "    print(f\"P-value: {p_val}\")\n",
    "    print()\n",
    "\n",
    "# Since the p-values are much larger than the significance level, we failed to reject the null hypothesis, which is  \n",
    "# \"No linear relationship between the 2 numeric variables\". (as the magnitudes of the correlation values are also small, \n",
    "# we can believe that there are no linear relationships between the controlled group CTR and the variant group CTR)"
   ]
  },
  {
   "attachments": {},
   "cell_type": "markdown",
   "metadata": {},
   "source": [
    "#### From above observation, we can tell that there are no linear relationships between the control group's 'Time Spent' & 'CTR' and that of variant groups. This means that if a user in the control group spends more time on (or click more on) the feature, he/she is not likely to spend more time on (or click more on) the variants of the feature"
   ]
  },
  {
   "attachments": {},
   "cell_type": "markdown",
   "metadata": {},
   "source": [
    "#### In case of our previous hypothesis testing assumptions are not valid (ex: samples are not randomly sourced from its population, observation in the sample dataset is not independent, or the sample distribution is not normal distribution), we may try out the non-parametric tests as well. \n",
    "### Here, we will try out the Mann-Whitney first to compare population means of 'Time Spent' and 'CTR' between the control group and the variant group"
   ]
  },
  {
   "cell_type": "code",
   "execution_count": 23,
   "metadata": {},
   "outputs": [
    {
     "name": "stdout",
     "output_type": "stream",
     "text": [
      "Time Spent:\n",
      "U-statistic: 83568.0\n",
      "P-value: 2.7811062485915867e-28\n",
      "\n",
      "U-statistic: 75305.0\n",
      "P-value: 8.790609726205182e-15\n",
      "\n"
     ]
    }
   ],
   "source": [
    "# Mann-Whitney is like a 2 sample t-test, so the null hypothesis is that the 2 variables have similar distribution\n",
    "# and the small p-value indicates that we should reject the null hypothesis, meaning that \n",
    "# the 2 variables have different population distributions\n",
    "\n",
    "print(\"Time Spent:\")\n",
    "for i in [df_var_a['Time Spent'], df_var_b['Time Spent']]:\n",
    "    U_stat, p_val = stats.mannwhitneyu(i, df_control['Time Spent'], alternative='greater') # right-tail test again\n",
    "\n",
    "    print(f\"U-statistic: {U_stat}\")\n",
    "    print(f\"P-value: {p_val}\")\n",
    "    print()\n",
    "\n",
    "# As shown below, all p-values are much less than the significance level, rejecting the null hypothesis\n",
    "# As this is a right-tailed test, the alternative hypothesis is that the population mean of the first group (variant)\n",
    "# is greater than the population mean of the second group (controlled), implying the conclusions we gained from the parametric\n",
    "# independent t-test are valid\n"
   ]
  },
  {
   "cell_type": "code",
   "execution_count": 24,
   "metadata": {},
   "outputs": [
    {
     "name": "stdout",
     "output_type": "stream",
     "text": [
      "CTR:\n",
      "U-statistic: 87509.0\n",
      "P-value: 2.2693238328928352e-36\n",
      "\n",
      "U-statistic: 71870.0\n",
      "P-value: 1.5291017033918714e-10\n",
      "\n"
     ]
    }
   ],
   "source": [
    "# similar conclusions can be gained for CTR\n",
    "print(\"CTR:\")\n",
    "for i in [df_var_a['CTR'], df_var_b['CTR']]:\n",
    "    U_stat, p_val = stats.mannwhitneyu(i, df_control['CTR'], alternative='greater') # right-tail test again\n",
    "\n",
    "    print(f\"U-statistic: {U_stat}\")\n",
    "    print(f\"P-value: {p_val}\")\n",
    "    print()\n",
    "\n",
    "# As shown below, all p-values are much less than the significance level, rejecting the null hypothesis\n",
    "# As this is a right-tailed test, the alternative hypothesis is that the population mean of the first group (variant)\n",
    "# is greater than the population mean of the second group (controlled), implying the conclusions we gained from the parametric\n",
    "# independent t-test are valid"
   ]
  },
  {
   "cell_type": "code",
   "execution_count": 25,
   "metadata": {},
   "outputs": [
    {
     "name": "stdout",
     "output_type": "stream",
     "text": [
      "U-statistic: 63471.0\n",
      "P-value: 0.00011523399593525649\n",
      "\n",
      "U-statistic: 71044.0\n",
      "P-value: 6.21719037931824e-12\n",
      "\n"
     ]
    }
   ],
   "source": [
    "# see if variant A gives better user statistics than variant B\n",
    "for i in ['Time Spent', 'CTR']:\n",
    "    U_stat, p_val = stats.mannwhitneyu(df_var_a[i], df_var_b[i], alternative='greater') # right-tail test again\n",
    "\n",
    "    print(f\"U-statistic: {U_stat}\")\n",
    "    print(f\"P-value: {p_val}\")\n",
    "    print()\n",
    "\n",
    "# again, small p-value (<0.05), rejecting null hypothesis\n",
    "# variant A actually yields higher 'Time Spent' and 'CTR' than variant B"
   ]
  },
  {
   "attachments": {},
   "cell_type": "markdown",
   "metadata": {},
   "source": [
    "#### AS shown above, the results and conclusions we gained from the Mann-Whitney tests align with the results we gained from the independent t-test (both variant groups yield higher 'Time Spent' and 'CTR' than the control group, where the variant A yields even higher 'Time Spent' and 'CTR' than that of variant B due to its smaller p-value).\n",
    "#### This may suggests that our parametric assumptions are valid \n",
    "### Let's try out the Kruskal-Wallis test"
   ]
  },
  {
   "cell_type": "code",
   "execution_count": 26,
   "metadata": {},
   "outputs": [
    {
     "name": "stdout",
     "output_type": "stream",
     "text": [
      "The test statistic: 128.94233881092123\n",
      "The p-value of the test: 1.0012139345955057e-28\n",
      "\n",
      "The test statistic: 162.2144623750578\n",
      "The p-value of the test: 5.964541337211197e-36\n",
      "\n"
     ]
    }
   ],
   "source": [
    "# Kruskal test is like ANOVA test (null hypothesis is that the distributions of multiple variables / groups are the same)\n",
    "# A small p-value as shown below indicates that we should reject the null hypothesis, meaning that \n",
    "# there are at least 2 groups whose population distributions are different (or 2 population means are different)\n",
    "\n",
    "for i in ['Time Spent', 'CTR']:\n",
    "    H, pval = stats.kruskal(df_control[i], df_var_a[i], df_var_b[i])\n",
    "\n",
    "    print('The test statistic:', H)\n",
    "    print('The p-value of the test:', pval)\n",
    "    print()\n",
    "\n",
    "# As shown below, all p-values are much less than the significance level, rejecting the null hypothesis\n",
    "# and once agin, implying the conclusions we gained from the parametric ANOVA test are valid"
   ]
  },
  {
   "attachments": {},
   "cell_type": "markdown",
   "metadata": {},
   "source": [
    "#### AS shown above, the results and conclusions we gained from the Kruskal-Wallis tests align with the results we gained from the parametric ANOVA test (the population means of the 3 groups for 'Time Spent' and 'CTR' are not equal).\n",
    "\n",
    "#### Finally, Let's try the Spearman's correlation to see if there is non-linear correlations (monotonic relationship) between the control group and the variant group for 'Time Spent' and 'CTR' "
   ]
  },
  {
   "cell_type": "code",
   "execution_count": 27,
   "metadata": {},
   "outputs": [
    {
     "name": "stdout",
     "output_type": "stream",
     "text": [
      "For Time Spent:\n",
      "Spearman's correlation: -0.050954136819020786\n",
      "P-value: 0.3561556992318087\n",
      "\n",
      "Spearman's correlation: 0.025649288039208972\n",
      "P-value: 0.642468049216481\n",
      "\n"
     ]
    }
   ],
   "source": [
    "print(\"For Time Spent:\")\n",
    "for i in [df_var_a['Time Spent'], df_var_b['Time Spent']]:\n",
    "    spearman_corr, p_val = stats.spearmanr(df_control['Time Spent'].iloc[:330], i) # note: the control group is truncated to the same number of records in the variant groups\n",
    "    print(f\"Spearman's correlation: {spearman_corr}\") \n",
    "    print(f\"P-value: {p_val}\")\n",
    "    print()\n",
    "\n",
    "# The null hypothesis of Spearman Correlation test is that there is NO monotonic relationship between the 2 groups (control & variant)\n",
    "# Since the p-value is very large (> 0.05), we failed to reject the null hypothesis, meaning that\n",
    "# there is no non-linear relationship (monotonic association) between the 2 groups\n",
    "# aligning with the result we gained from Pearson's correlation, which is \n",
    "# if a user in the control group spends more time on the feature, he/she is not likely to spend more time on the variants of the feature\n"
   ]
  },
  {
   "cell_type": "code",
   "execution_count": 28,
   "metadata": {},
   "outputs": [
    {
     "name": "stdout",
     "output_type": "stream",
     "text": [
      "For CTR:\n",
      "Spearman's correlation: -0.05786629645985562\n",
      "P-value: 0.2946002826271619\n",
      "\n",
      "Spearman's correlation: -0.044499448613352324\n",
      "P-value: 0.4204132802577263\n",
      "\n"
     ]
    }
   ],
   "source": [
    "# same conclusion can be appleid to CTR, as the p-values are still quite big (> 0.05)\n",
    "print(\"For CTR:\")\n",
    "for i in [df_var_a['CTR'], df_var_b['CTR']]:\n",
    "    spearman_corr, p_val = stats.spearmanr(df_control['CTR'].iloc[:330], i) # note: the control group is truncated to the same number of records in the variant groups\n",
    "    print(f\"Spearman's correlation: {spearman_corr}\")\n",
    "    print(f\"P-value: {p_val}\")\n",
    "    print()"
   ]
  },
  {
   "attachments": {},
   "cell_type": "markdown",
   "metadata": {},
   "source": [
    "#### Note: The compability of the feature on users' devices is great, because we have used ANOVA to demonstrate that, for the control and variant groups, the devices of users will not affect their time spent and CTR on the feature, implying that the user expereince of the feature (either variant or the control) on the different devices are not statistically significant different as the population means of 'Time Spent' and 'CTR' across different devices do not differ much for each of the 3 groups. "
   ]
  },
  {
   "attachments": {},
   "cell_type": "markdown",
   "metadata": {},
   "source": [
    "### Summary\n",
    "    1. Locations & Devices of users for the 3 feature groups do not affect (or correlate with) the users' time spent and CTR (namely the users in the control group or the variant groups will not spent more time or less time on the feature due to the device and location he/she is using and in)\n",
    "    \n",
    "    2. Population means of the 'Time Spent' and 'CTR' are higher in both of the variant A and the variant B groups than the control group. This indicates that both of the variant features result in CTR and Time Spent lift\n",
    "\n",
    "    3. Chi-Sqaured Test tells that there is a correlation between the column 'Time Spent' and 'Variant', and a correlation between 'CTR' and 'Variant', meaning that knowing the variant of feature gives some information about the users' 'Time Spent' and 'CTR' (having statistically significant difference between the 'Time Spent' & 'CTR' and the variant of the feature the users are using)\n",
    "    \n",
    "    4. Variant A is yielding higher user 'Time Spent' and 'CTR' population mean than that of variant B, though both of them are giving higher 'Time Spent' and 'CTR' than the control group. (Namely the differences observed in \"time spent\" and \"CTR\" between the control group and variant A group are more substantial and statistically significant compared to the differences between the control group and variant B group)\n",
    "\n",
    "    5. 'Age' is not a factor that affects the 'Time Spend' and 'CTR' in general, while there is a linear correlation between 'Time Spent' and 'CTR' (regardless of the variant groups)\n",
    "\n",
    "    6. No linear or monotonic relationships between the control group's 'Time Spent' & 'CTR' and that of variant groups, meaning that if a user in the control group spends more time on (or click more on) the feature, he/she is not likely to spend more time on (or click more on) the variants of the feature\n",
    "\n",
    "    7. Above conclusions are all sound even if the parametric hypothesis testing assumptions are not held (ex: samples are not randomly sourced from its population, observations in the sample dataset are not independent, or the sample distribution is not normal distribution) as the same parametric test conclusions are obtained in the non-parametric tests (Mann-Whitney U test vs Independent T-test, Kruskal-Wallis test vs ANOVA, and Spearman’s rank correlation vs Pearson's correlation)\n",
    "\n",
    "### Recommendation to the engineering team: Variant A should be deployed first, because Variant A is yielding higher user 'Time Spent' and 'CTR' population mean than that of variant B."
   ]
  },
  {
   "attachments": {},
   "cell_type": "markdown",
   "metadata": {},
   "source": [
    "### Roll-Out Plan: \n",
    "    1. Sanity check Variant A for a \"production environment\" deployment including a thorough testing, bug fixing, and addressing any issue or improvement identified\n",
    "\n",
    "    2. Begin the roll-out of Variant A to a subset of users (20% of total users), rather than roll-out to the whole user population to mitigate the potential user unsatisfaction risks and to gather more user feedback on the performance of Variant A to further testify our conclusions. Moreover, by initiating a roll-out to a subset of users, we can closely monitor the impact of Variant A on the user engagement (Time Spent) and CTR to detect any unforseen trend or issue. For example, we can continuously conduct statistical testing like ANOVA and t-test to verify that the Variant A indeed increases the 'Time Spent' and 'CTR' comparing to the control group (the remaining 80% of users), otherwise, we need to investigate what are the underlying problems that cause the outcome not matching our initial expectations \n",
    "\n",
    "    3. Regularly communicate with the engineering team to address any technical challenge that may arise and iteratively refine the Variant A feature based on the user feedback. \n",
    "\n",
    "    4. Once the deployment of Variant A is evaluated to be successful in the subset of the users (such as higher mean 'Time Spent' and 'CTR' in the subset of users), we may iteratively proceed to a full-scale deployment of Variant A. This means that we can repeat Step 2 and 3 to test and refine Variant A on a larger subset of users such as 40% and then 70% until all users are covered\n",
    "    \n",
    "    5. If unexpected issues or negative outcomes are reported before the full-scale deployment, then we should consult with the engineering team to determine if any necessary adjustment is needed for Variant A or potential fallback options\n",
    "\n",
    "    6. Once Variant A is fully deployed without encountering any major issue, we can conduct periodic reviews on Variant A to ensure that the increases in 'Time Spent' and 'CTR' are maintained\n",
    "\n",
    "### Q: How quickly will you introduce the feature to your audience?\n",
    "### A: As the Roll-Out Plan indicates, I will introduce the Variant A feature to a subset of users ASAP once the sanity check of Variant A is completed. However, before expanding the deployment of Variant A to all users, I think I may need 3 additional months to iteratively experiment and refine the Variant A feature to ensure that it can be fully deployed without encountering any issue or incurring any negative consequence, while achieving the outcomes we are expecting such as higher mean 'Time Spent' and 'CTR'. Hence, we can experiment Variant A on 20% of users in month 1, 40% in month 2, 70% in month 3, and 100% in month 4, leading 3 months to be the maximal amount of time needed before introducing Variant A feature to all of our users.\n"
   ]
  },
  {
   "cell_type": "markdown",
   "metadata": {},
   "source": []
  }
 ],
 "metadata": {
  "kernelspec": {
   "display_name": "Python 3",
   "language": "python",
   "name": "python3"
  },
  "language_info": {
   "codemirror_mode": {
    "name": "ipython",
    "version": 3
   },
   "file_extension": ".py",
   "mimetype": "text/x-python",
   "name": "python",
   "nbconvert_exporter": "python",
   "pygments_lexer": "ipython3",
   "version": "3.10.12"
  },
  "orig_nbformat": 4
 },
 "nbformat": 4,
 "nbformat_minor": 2
}
